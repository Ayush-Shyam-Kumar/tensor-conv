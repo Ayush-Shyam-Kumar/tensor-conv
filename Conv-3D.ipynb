{
 "cells": [
  {
   "cell_type": "code",
   "execution_count": 29,
   "metadata": {},
   "outputs": [
    {
     "name": "stdout",
     "output_type": "stream",
     "text": [
      "Final Matrix:\n",
      "[[ 17. -11.  22. -14.   3.   9. -34.]\n",
      " [ 11.  -7.  -8.   0.  13.  -9. -15.]\n",
      " [  1.   1.   5.  -4.   2.  -2. -24.]\n",
      " [ 13. -15.   4.   0.   5.   6. -15.]\n",
      " [  8.   0.  11. -21.   1.  10.  -1.]\n",
      " [ 12.  11.  -8.   9.   7. -13.  -5.]\n",
      " [ -3.  11. -14.   9. -15.   2. -14.]]\n"
     ]
    }
   ],
   "source": [
    "n=7; \n",
    "p=1;\n",
    "s=1; \n",
    "l=3;\n",
    "k=n+(2*p)\n",
    "import numpy as np\n",
    "import math\n",
    "A = np.random.randint(10,size=(n,n,l))\n",
    "p_m = np.zeros([k,k,l],dtype=int)\n",
    "f = np.array([[1,0,-1],[1,0,-1],[1,0,-1]]);\n",
    "for v in range(0,l):\n",
    "    for i in range (0,n):\n",
    "        for a in range(0,n):\n",
    "             p_m[i+p,a+p,v] = A[i,a,v]\n",
    "  \n",
    "r1=len(p_m);\n",
    "fs=len(f);\n",
    "A1=[];\n",
    "B=[]\n",
    "cc=np.zeros([(math.floor((n+(2*p)-fs)/s +1)),(math.floor((n+(2*p)-fs)/s +1)),l],dtype=int)\n",
    "strr = range(0,r1-fs+1,s)\n",
    "for v in range(0,l):\n",
    "    for r in strr:    \n",
    "        for c in strr:\n",
    "              A1=np.multiply(p_m[r:r+fs,c:c+fs,v],f)\n",
    "              B.append(np.sum(A1))\n",
    " \n",
    "kk=np.reshape(B,(math.floor((n+(2*p)-fs)/s +1),math.floor((n+(2*p)-fs)/s +1),l))\n",
    "cc = np.multiply(kk,(-1))\n",
    "tt=np.zeros([(math.floor((n+(2*p)-fs)/s +1)),(math.floor((n+(2*p)-fs)/s +1))])\n",
    "for r in range(0,l):\n",
    "    tt=cc[:,:,r]+tt\n",
    "\n",
    "print(\"Final Matrix:\")\n",
    "print(tt)"
   ]
  },
  {
   "cell_type": "code",
   "execution_count": null,
   "metadata": {},
   "outputs": [],
   "source": []
  }
 ],
 "metadata": {
  "kernelspec": {
   "display_name": "Python 3",
   "language": "python",
   "name": "python3"
  },
  "language_info": {
   "codemirror_mode": {
    "name": "ipython",
    "version": 3
   },
   "file_extension": ".py",
   "mimetype": "text/x-python",
   "name": "python",
   "nbconvert_exporter": "python",
   "pygments_lexer": "ipython3",
   "version": "3.7.4"
  }
 },
 "nbformat": 4,
 "nbformat_minor": 2
}
